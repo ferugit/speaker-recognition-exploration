{
  "nbformat": 4,
  "nbformat_minor": 0,
  "metadata": {
    "colab": {
      "provenance": [],
      "authorship_tag": "ABX9TyOm6aNH70ZCEj7QbxjZ0fTb",
      "include_colab_link": true
    },
    "kernelspec": {
      "name": "python3",
      "display_name": "Python 3"
    },
    "language_info": {
      "name": "python"
    }
  },
  "cells": [
    {
      "cell_type": "markdown",
      "metadata": {
        "id": "view-in-github",
        "colab_type": "text"
      },
      "source": [
        "<a href=\"https://colab.research.google.com/github/ferugit/speaker-recognition-exploration/blob/testing/model's_accuracy.ipynb\" target=\"_parent\"><img src=\"https://colab.research.google.com/assets/colab-badge.svg\" alt=\"Open In Colab\"/></a>"
      ]
    },
    {
      "cell_type": "markdown",
      "source": [
        "# Spkrec-ECAPA-VoxCeleb model EER\n"
      ],
      "metadata": {
        "id": "CbycPBc8pEUH"
      }
    },
    {
      "cell_type": "code",
      "source": [
        "import torch\n",
        "import numpy as np\n",
        "from torch.nn.functional import cosine_similarity\n",
        "import pandas as pd\n",
        "from sklearn.metrics import roc_curve, auc"
      ],
      "metadata": {
        "id": "zazVm2bspPNi"
      },
      "execution_count": null,
      "outputs": []
    },
    {
      "cell_type": "code",
      "source": [
        "def verify_files(embeddings, embeddings_1):\n",
        "    cosine_similarity = torch.nn.CosineSimilarity(dim=-1, eps=1e-6)\n",
        "    output = cosine_similarity(embeddings, embeddings_1)\n",
        "    return output[0]"
      ],
      "metadata": {
        "id": "rb2Z_4HwpbBX"
      },
      "execution_count": null,
      "outputs": []
    },
    {
      "cell_type": "code",
      "source": [
        "df = pd.read_csv('path_to_the_embeddings_file', header = 0, sep = '\\t')\n",
        "\n",
        "D = df['embeddings']\n",
        "names = df['name']\n",
        "\n",
        "# just keep the speaker's name\n",
        "remove_start = 32\n",
        "remove_end = 9\n",
        "embeddingsList= D.str[6:]\n",
        "modified_names = names.str[remove_start:-remove_end]\n",
        "\n",
        "\n",
        "D = embeddingsList.tolist()\n",
        "A = modified_names.tolist()\n",
        "\n",
        "speaker_files = list(zip(A, D))\n",
        "pairs = []\n",
        "for Speaker, Embedd in speaker_files:\n",
        "    tensor_list = eval(Embedd)\n",
        "    Embedd = torch.tensor(tensor_list)\n",
        "    for Speaker2,embedd2 in speaker_files:\n",
        "        pairs.append([Speaker,Speaker2,Embedd,embedd2])"
      ],
      "metadata": {
        "id": "PMnIwupXpeGy"
      },
      "execution_count": null,
      "outputs": []
    },
    {
      "cell_type": "code",
      "source": [
        "true_labels = []\n",
        "scores = []\n",
        "for pair in pairs:\n",
        "    speaker1, speaker2, Embedd, embedd2 = pair\n",
        "    print(f\"{speaker1} and {speaker2}\")\n",
        "    tensor_list = eval(embedd2)\n",
        "    embedd2 = torch.tensor(tensor_list)\n",
        "\n",
        "\n",
        "    new_score = verify_files(Embedd,embedd2)\n",
        "    # Label: 1 if same speaker, 0 if different speakers\n",
        "    label = int(speaker1 == speaker2)\n",
        "    true_labels.append(label)\n",
        "    scores.append(new_score)"
      ],
      "metadata": {
        "id": "FA6l2FClp5Y3"
      },
      "execution_count": null,
      "outputs": []
    },
    {
      "cell_type": "code",
      "source": [
        "# Compute the False Positive Rate (FPR) and True Positive Rate (TPR)\n",
        "fpr, tpr, thresholds = roc_curve(new_true_labels, new_scores, pos_label=1)\n",
        "\n",
        "# Find the EER threshold\n",
        "eer_threshold = thresholds[np.nanargmin(np.abs(fpr - (1 - tpr)))]\n",
        "\n",
        "# Calculate the EER\n",
        "eer = fpr[np.nanargmin(np.abs(fpr - (1 - tpr)))]\n",
        "\n",
        "# Print the EER\n",
        "print(f\"Equal Error Rate  = {eer}, and the treshold = {eer_threshold}\")\n",
        "print(f\"EER: {eer:.2f}\")\n"
      ],
      "metadata": {
        "id": "k0BHGUyMqEaq"
      },
      "execution_count": null,
      "outputs": []
    },
    {
      "cell_type": "code",
      "source": [
        "roc_auc = auc(fpr, tpr)\n",
        "\n",
        "# Plot the ROC curve\n",
        "plt.plot(fpr, tpr, color='blue', label='ROC curve (area = %0.2f)' % roc_auc)\n",
        "plt.plot([0, 1], [0, 1], color='red', linestyle='--', label='Random Guess')\n",
        "#plt.plot(fpr, tpr, color=\"darkorange\", lw=2, label=\"ROC curve (area = %0.2f)\" % roc_auc)\n",
        "plt.xlabel('False Positive Rate (FPR)')\n",
        "plt.ylabel('True Positive Rate (TPR)')\n",
        "plt.title('Receiver Operating Characteristic (ROC) Curve')\n",
        "plt.legend()\n",
        "plt.grid(True)\n",
        "plt.show()\n",
        "plt.savefig('roc_curve.png')"
      ],
      "metadata": {
        "id": "tI3OYACrqYd_"
      },
      "execution_count": null,
      "outputs": []
    },
    {
      "cell_type": "markdown",
      "source": [
        "# Wavlm-base model EER"
      ],
      "metadata": {
        "id": "HORSP09dpQl3"
      }
    },
    {
      "cell_type": "code",
      "source": [
        "def similarity(embed1,embed2):\n",
        "    normalized_embeddings1 = torch.nn.functional.normalize(embed1, dim=-1)\n",
        "    normalized_embeddings2 = torch.nn.functional.normalize(embed2, dim=-1)\n",
        "\n",
        "    # # # Calculate cosine similarity\n",
        "    cosine_sim = torch.nn.CosineSimilarity(dim=-1)\n",
        "    similarity = cosine_sim(normalized_embeddings1, normalized_embeddings2).item()\n",
        "    return similarity"
      ],
      "metadata": {
        "id": "Ya_d9nAirDft"
      },
      "execution_count": null,
      "outputs": []
    },
    {
      "cell_type": "code",
      "source": [
        "df = pd.read_csv('path_to_the_embeddings_file', header = 0, sep = '\\t')\n",
        "\n",
        "names = df['name']\n",
        "df['embeddings'] = df['embeddings'].str.replace('\\s+', ',', regex=True)\n",
        "\n",
        "# just keeping the speaker's name from the audio file\n",
        "remove_start = 30\n",
        "remove_end = 9\n",
        "modified_names = names.str[remove_start:-remove_end]\n",
        "\n",
        "\n",
        "A = modified_names.tolist()\n",
        "D = df['embeddings'].tolist()\n",
        "\n",
        "speaker_files = list(zip(A, D))\n",
        "pairs = []\n",
        "for Speaker, Embedd in speaker_files:\n",
        "    tensor_list = ast.literal_eval(Embedd)\n",
        "    Embedd = torch.tensor(tensor_list)\n",
        "    for Speaker2,embedd2 in speaker_files:\n",
        "        pairs.append([Speaker,Speaker2,Embedd,embedd2])\n"
      ],
      "metadata": {
        "id": "kboH9wvqqeof"
      },
      "execution_count": null,
      "outputs": []
    },
    {
      "cell_type": "code",
      "source": [
        "true_labels = []\n",
        "scores = []\n",
        "for pair in pairs:\n",
        "    speaker1, speaker2, Embedd, embedd2 = pair\n",
        "    print(f\"{speaker1} and {speaker2}\")\n",
        "    tensor_list = ast.literal_eval(embedd2)\n",
        "    embedd2 = torch.tensor(tensor_list)\n",
        "\n",
        "\n",
        "    new_score = similarity(Embedd,embedd2)\n",
        "    # Label: 1 if same speaker, 0 if different speakers\n",
        "    label = int(speaker1 == speaker2)\n",
        "    true_labels.append(label)\n",
        "    scores.append(new_score)"
      ],
      "metadata": {
        "id": "Aa2hMbawrM1M"
      },
      "execution_count": null,
      "outputs": []
    },
    {
      "cell_type": "code",
      "source": [
        "# Compute the False Positive Rate (FPR) and True Positive Rate (TPR)\n",
        "fpr, tpr, thresholds = roc_curve(new_true_labels, new_scores, pos_label=1)\n",
        "\n",
        "# Find the EER threshold\n",
        "eer_threshold = thresholds[np.nanargmin(np.abs(fpr - (1 - tpr)))]\n",
        "\n",
        "# Calculate the EER\n",
        "eer = fpr[np.nanargmin(np.abs(fpr - (1 - tpr)))]\n",
        "\n",
        "# Print the EER\n",
        "print(f\"Equal Error Rate  = {eer}, and the treshold = {eer_threshold}\")\n",
        "print(f\"EER: {eer:.2f}\")\n",
        "\n",
        "roc_auc = auc(fpr, tpr)\n",
        "\n",
        "# Plot the ROC curve\n",
        "plt.plot(fpr, tpr, color='blue', label='ROC curve (area = %0.2f)' % roc_auc)\n",
        "plt.plot([0, 1], [0, 1], color='red', linestyle='--', label='Random Guess')\n",
        "#plt.plot(fpr, tpr, color=\"darkorange\", lw=2, label=\"ROC curve (area = %0.2f)\" % roc_auc)\n",
        "plt.xlabel('False Positive Rate (FPR)')\n",
        "plt.ylabel('True Positive Rate (TPR)')\n",
        "plt.title('Receiver Operating Characteristic (ROC) Curve')\n",
        "plt.legend()\n",
        "plt.grid(True)\n",
        "plt.show()\n",
        "plt.savefig('roc_curve.png')"
      ],
      "metadata": {
        "id": "_tnL5jPLrXi4"
      },
      "execution_count": null,
      "outputs": []
    }
  ]
}